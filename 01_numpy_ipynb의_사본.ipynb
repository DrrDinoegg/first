{
  "nbformat": 4,
  "nbformat_minor": 0,
  "metadata": {
    "org": null,
    "kernelspec": {
      "name": "python3",
      "display_name": "Python 3"
    },
    "language_info": {
      "codemirror_mode": {
        "name": "ipython",
        "version": 3
      },
      "file_extension": ".py",
      "mimetype": "text/x-python",
      "name": "python",
      "nbconvert_exporter": "python",
      "pygments_lexer": "ipython3",
      "version": "3.5.2"
    },
    "colab": {
      "name": "01-numpy.ipynb의 사본",
      "provenance": [],
      "collapsed_sections": [
        "M-Iv1aBwFu6x",
        "6Lxd35IVFu7A",
        "VEbLYV8cFu7M",
        "-2WD-fPJFu7X",
        "pP8dhPK8Fu7f",
        "VAnod6jaFu7j",
        "2WcFZmLVFu7p",
        "u2eP-cJSFu8f",
        "Y8OzY_QuFu8f",
        "SmfaYg0EFu8g",
        "IOFajD-oFu8i",
        "Fzcz8uKdFu8j",
        "TD1qy-7uFu8k",
        "KT0EVxGHFu8l",
        "byw23waRFu8m"
      ],
      "include_colab_link": true
    },
    "accelerator": "GPU"
  },
  "cells": [
    {
      "cell_type": "markdown",
      "metadata": {
        "id": "view-in-github",
        "colab_type": "text"
      },
      "source": [
        "<a href=\"https://colab.research.google.com/github/sungholim-uos/first/blob/master/01_numpy_ipynb%EC%9D%98_%EC%82%AC%EB%B3%B8.ipynb\" target=\"_parent\"><img src=\"https://colab.research.google.com/assets/colab-badge.svg\" alt=\"Open In Colab\"/></a>"
      ]
    },
    {
      "cell_type": "markdown",
      "metadata": {
        "id": "dDxUCU9qFu6j",
        "colab_type": "text"
      },
      "source": [
        "## Housekeeping\n",
        "\n"
      ]
    },
    {
      "cell_type": "markdown",
      "metadata": {
        "id": "nnS-c7z3Fu6l",
        "colab_type": "text"
      },
      "source": [
        "-   Grades for attendance, weekly exercises, and a final project\n",
        "-   Classes and weekly exercises will be given in jupyter notebook form\n",
        "    through github classrooms, you should upload your answers to github each week\n",
        "-   We will often need access to a gpu.\n",
        "    -   There are gpus on the pcs in the classroom, if you are happy to\n",
        "        figure out installing/using pytorch and jupyter on your own\n",
        "    -   You can use google colab, for which you can turn on gpu/tpus, and\n",
        "        has easy download/upload to github, and it has the libraries\n",
        "        already installed\n",
        "-   You will need a github account and a google account (if you use colab)\n",
        "-   Sign up to the first classroom: go to the url and follow the instructions\n",
        "    -   [https://git.io/2020deep01](https://git.io/2020deep01)\n",
        "-   Send an email if you need help with any of this!\n",
        "    -   Some more info on using colab is at the end of the file\n",
        "\n"
      ]
    },
    {
      "cell_type": "markdown",
      "metadata": {
        "id": "l5sFz8GlFu6m",
        "colab_type": "text"
      },
      "source": [
        "## Introduction - Machine Learning\n",
        "\n"
      ]
    },
    {
      "cell_type": "markdown",
      "metadata": {
        "id": "C-bxb4TLFu6n",
        "colab_type": "text"
      },
      "source": [
        "-   **Machine learning** refers to sets of algorithms (techniques) that\n",
        "    can \"learn\" from experience\n",
        "-   Given inputs and expected output can automatically learn to\n",
        "    associate patterns in the input to the output and generalize on\n",
        "    unseen inputs.\n",
        "-   As opposed to traditional algorithms which are explicitly programmed\n",
        "    to always act in specific ways\n",
        "-   Example: Does this signal in my detector correspond to a photon or a\n",
        "    hadron? Feed the algorithm thousands of (simulated) photons &\n",
        "    hadrons, and it will learn to distinguish them\n",
        "    -   That is, you build a parameterized model which describes the\n",
        "        outputs of photons vs. hadrons, and the algorithms changes the\n",
        "        parameters to better describe the photons or hadron examples you\n",
        "        feed it\n",
        "-   Ask for my previous lecture slides on machine learning, if you need\n",
        "    a more basic introduction\n",
        "\n"
      ]
    },
    {
      "cell_type": "markdown",
      "metadata": {
        "id": "LbaUm45rFu6o",
        "colab_type": "text"
      },
      "source": [
        "## Introduction - Deep Learning\n",
        "\n"
      ]
    },
    {
      "cell_type": "markdown",
      "metadata": {
        "id": "jEZi0CzwFu6p",
        "colab_type": "text"
      },
      "source": [
        "-   *Deep learning* - **learning** refers to machine learning, **deep**\n",
        "    refers to a special property of the technique but generally means\n",
        "    the technique operates on much lower level information than older\n",
        "    machine learning algorithms, and goes through multiple levels of\n",
        "    processing (all automated by the learning algorithms, of course)\n",
        "-   Ex: in the old days (pre-2012), image recognition might proceed by first using\n",
        "    specialized edge detectors feeding to specialized shape detectors\n",
        "    feeding to machine learning algorithms operating on high level\n",
        "    info. Today, we would just feed raw pixels into a deep learning\n",
        "    algorithm and let it figure out the intermediate representations.\n",
        "\n"
      ]
    },
    {
      "cell_type": "markdown",
      "metadata": {
        "id": "TgwTej39Fu6q",
        "colab_type": "text"
      },
      "source": [
        "## Introduction - Deep Learning Applications\n",
        "\n"
      ]
    },
    {
      "cell_type": "markdown",
      "metadata": {
        "id": "lxGlEj95Fu6q",
        "colab_type": "text"
      },
      "source": [
        "-   Typical applications include:\n",
        "-   Voice recognition: \"Hey Siri\" vs all the other phrases you say\n",
        "    around a phone\n",
        "-   Image classification: cat vs dog, or photon vs hadron\n",
        "-   Image segmentation: draw a box around all the people in this image,\n",
        "    or e.g. all the galaxies in this image from the Hubble telescope\n",
        "-   Machine translation: this series of utterances in Korean correspond\n",
        "    to these in English\n",
        "-   Hopefully, you can see how some of these could be useful to us in\n",
        "    science\n",
        "\n"
      ]
    },
    {
      "cell_type": "markdown",
      "metadata": {
        "id": "1I0G5ke7Fu6r",
        "colab_type": "text"
      },
      "source": [
        "## Numpy\n",
        "\n"
      ]
    },
    {
      "cell_type": "markdown",
      "metadata": {
        "id": "-0cn02TJFu6s",
        "colab_type": "text"
      },
      "source": [
        "-   We will be using the `pytorch` deep learning library in this course\n",
        "    -   These days `pytorch` is the most used library by ML researchers\n",
        "-   Need some preliminaries before we start using `pytorch`\n",
        "-   Numpy is a python package providing one main type `ndarray` a fast\n",
        "    n-dimensional array, and various linear algebra operations for it\n",
        "-   Important for us for two reasons\n",
        "    -   pytorch's `Tensor` type has an API based on `numpy`\n",
        "    -   `ndarray` is used an intermediate in creating and using `Tensor` objects\n",
        "-   Can think of this lesson as a warm-up before seeing the `torch` library\n",
        "    -   Also to make sure we're all comfortable with python and writing code\n",
        "-   First question we'll look at: why do we need a special array type?\n",
        "\n",
        "-   **Reference** <span class=\"underline\">[Introduction To NumPy](https://jakevdp.github.io/PythonDataScienceHandbook/02.00-introduction-to-numpy.html)</span> from \"Python Data Science Handbook\"\n",
        "    -   Flip through it for more info/exercises\n",
        "\n"
      ]
    },
    {
      "cell_type": "markdown",
      "metadata": {
        "id": "TsqrsX8jFu6t",
        "colab_type": "text"
      },
      "source": [
        "## Python vs C: Integers\n",
        "\n"
      ]
    },
    {
      "cell_type": "markdown",
      "metadata": {
        "id": "9cvQotmEFu6t",
        "colab_type": "text"
      },
      "source": [
        "![img](https://github.com/uos-computing-for-particle-physics/01-numpy-sungholim-uos/blob/master/images/cint_vs_pyint.png?raw=1)\n",
        "\n",
        "-   In C (or other *low-level* language, ex. `fortran`) you deal directly with the\n",
        "    computers memory: operations happen at the speed of the CPU\n",
        "-   Python uses *boxed* types, additional information, such as the type\n",
        "    of the object is included **in memory** (each python object is a\n",
        "    `PyObject` *struct* in memory)\n",
        "    -   C **code** contains type information, which is used by the compiler\n",
        "        to generate machine code, but this information is **not**\n",
        "        (explicitly) part of the machine code\n",
        "-   Python must *unbox* these representations and choose operations\n",
        "    based on the types of the objects, this is the interpreter's job\n",
        "-   This means python code is, perforce, slower than C code\n",
        "\n"
      ]
    },
    {
      "cell_type": "markdown",
      "metadata": {
        "id": "mTYpJwvLFu6u",
        "colab_type": "text"
      },
      "source": [
        "## Python vs C: lists\n",
        "\n"
      ]
    },
    {
      "cell_type": "markdown",
      "metadata": {
        "id": "QmBqmUu-Fu6v",
        "colab_type": "text"
      },
      "source": [
        "![img](https://github.com/uos-computing-for-particle-physics/01-numpy-sungholim-uos/blob/master/images/array_vs_list.png?raw=1)\n",
        "\n",
        "-   Similarly, a C `int` array can be laid out one integer after another\n",
        "    in memory, and then operated on knowing only the size of `int` and\n",
        "    the start of the array\n",
        "-   A python list, on the other hand, is a `PyObject` with a pointer to\n",
        "    the list of objects in the list, each object is again a `PyObject`\n",
        "-   Consider `a[0] + a[0]` in C and in python\n",
        "    -   In python, both the list object and the objects themselves are boxed\n",
        "\n"
      ]
    },
    {
      "cell_type": "markdown",
      "metadata": {
        "id": "WhFQBjXZFu6v",
        "colab_type": "text"
      },
      "source": [
        "## Benefits of NumPy\n",
        "\n"
      ]
    },
    {
      "cell_type": "markdown",
      "metadata": {
        "id": "Hgs_DmaxFu6w",
        "colab_type": "text"
      },
      "source": [
        "![img](https://github.com/uos-computing-for-particle-physics/01-numpy-sungholim-uos/blob/master/images/array_vs_list.png?raw=1)\n",
        "\n",
        "-   Uses a native array datatype\n",
        "    -   A `PyObject`, with some bookkeeping, but pointing directly to a C array\n",
        "-   Provides functions that operate over the $n$-dim. arrays efficiently\n",
        "    -   Built on top of highly-optimised linear algebra packages like BLAS\n",
        "-   *Note:* you can become just as inefficient if you program your loops\n",
        "    manually, **always use the built-in numpy operations when you can**\n",
        "\n"
      ]
    },
    {
      "cell_type": "markdown",
      "metadata": {
        "id": "M-Iv1aBwFu6x",
        "colab_type": "text"
      },
      "source": [
        "## Basic Operations: Creating arrays in numpy\n",
        "\n"
      ]
    },
    {
      "cell_type": "markdown",
      "metadata": {
        "id": "FfDuGxWaFu6y",
        "colab_type": "text"
      },
      "source": [
        "Directly from a python array\n",
        "\n"
      ]
    },
    {
      "cell_type": "code",
      "metadata": {
        "id": "qQU7UYfxFu6z",
        "colab_type": "code",
        "outputId": "63ec8a86-ff9c-472e-a4e0-5e47a45747fb",
        "colab": {}
      },
      "source": [
        "import numpy as np\n",
        "np.array([1,2,3,4])"
      ],
      "execution_count": 0,
      "outputs": [
        {
          "output_type": "stream",
          "text": [
            "array([1, 2, 3, 4])"
          ],
          "name": "stdout"
        }
      ]
    },
    {
      "cell_type": "markdown",
      "metadata": {
        "id": "ku_8t6W4Fu63",
        "colab_type": "text"
      },
      "source": [
        "With functions taking a *shape*: tuple of sizes along each dimension\n",
        "\n"
      ]
    },
    {
      "cell_type": "code",
      "metadata": {
        "id": "0rHn5wmwFu64",
        "colab_type": "code",
        "outputId": "74311b45-1bea-40ad-85b0-1f483e20d90d",
        "colab": {}
      },
      "source": [
        "np.zeros((2,2))"
      ],
      "execution_count": 0,
      "outputs": [
        {
          "output_type": "stream",
          "text": [
            "array([[0., 0.],\n",
            "       [0., 0.]])"
          ],
          "name": "stdout"
        }
      ]
    },
    {
      "cell_type": "code",
      "metadata": {
        "id": "lS8uTZ8sFu67",
        "colab_type": "code",
        "outputId": "70d0381f-3fdd-406a-8e45-f638a2088b8c",
        "colab": {}
      },
      "source": [
        "np.ones((1,2,3))"
      ],
      "execution_count": 0,
      "outputs": [
        {
          "output_type": "stream",
          "text": [
            "array([[[1., 1., 1.],\n",
            "        [1., 1., 1.]]])"
          ],
          "name": "stdout"
        }
      ]
    },
    {
      "cell_type": "markdown",
      "metadata": {
        "id": "rcKGknI1Fu69",
        "colab_type": "text"
      },
      "source": [
        "Shape goes from outermost brackets to innermost. All `numpy` objects\n",
        "carry their `shape`\n",
        "\n"
      ]
    },
    {
      "cell_type": "code",
      "metadata": {
        "id": "asPKHHMHFu6-",
        "colab_type": "code",
        "outputId": "87730634-e28c-4da3-ba6d-5d526e055050",
        "colab": {}
      },
      "source": [
        "a = np.ones((1,2,3))\n",
        "print(a.shape)"
      ],
      "execution_count": 0,
      "outputs": [
        {
          "output_type": "stream",
          "text": [
            "(1, 2, 3)"
          ],
          "name": "stdout"
        }
      ]
    },
    {
      "cell_type": "markdown",
      "metadata": {
        "id": "6Lxd35IVFu7A",
        "colab_type": "text"
      },
      "source": [
        "## Creating arrays in numpy and reshaping\n",
        "\n"
      ]
    },
    {
      "cell_type": "markdown",
      "metadata": {
        "id": "X4yR43r7Fu7B",
        "colab_type": "text"
      },
      "source": [
        "With more specialized functions\n",
        "\n"
      ]
    },
    {
      "cell_type": "code",
      "metadata": {
        "id": "TGRXdYyfFu7C",
        "colab_type": "code",
        "outputId": "5ad3a473-e1b3-4b3f-b811-088e0e933186",
        "colab": {}
      },
      "source": [
        "np.linspace(0,1,5) # 5 element array evenly-spaced from 0 to 1 inclusive"
      ],
      "execution_count": 0,
      "outputs": [
        {
          "output_type": "stream",
          "text": [
            "array([0.  , 0.25, 0.5 , 0.75, 1.  ])"
          ],
          "name": "stdout"
        }
      ]
    },
    {
      "cell_type": "code",
      "metadata": {
        "id": "lgkNmNPcFu7E",
        "colab_type": "code",
        "outputId": "e078ebcc-034e-4bdd-b3f5-80c95b0a42d6",
        "colab": {}
      },
      "source": [
        "np.arange(10)"
      ],
      "execution_count": 0,
      "outputs": [
        {
          "output_type": "stream",
          "text": [
            "array([0, 1, 2, 3, 4, 5, 6, 7, 8, 9])"
          ],
          "name": "stdout"
        }
      ]
    },
    {
      "cell_type": "markdown",
      "metadata": {
        "id": "ac0BgxYxFu7G",
        "colab_type": "text"
      },
      "source": [
        "You can `reshape` arrays to give a different view (of the same\n",
        "underlying array)\n",
        "\n"
      ]
    },
    {
      "cell_type": "code",
      "metadata": {
        "id": "CKlZ8fl-Fu7G",
        "colab_type": "code",
        "outputId": "d8d6fca6-7cd1-4bb7-9d33-1d80907ebdc5",
        "colab": {}
      },
      "source": [
        "np.arange(10).reshape((2,5))"
      ],
      "execution_count": 0,
      "outputs": [
        {
          "output_type": "stream",
          "text": [
            "array([[0, 1, 2, 3, 4],\n",
            "       [5, 6, 7, 8, 9]])"
          ],
          "name": "stdout"
        }
      ]
    },
    {
      "cell_type": "markdown",
      "metadata": {
        "id": "IS8o8ewhFu7I",
        "colab_type": "text"
      },
      "source": [
        "You can flatten an array (of any dimensions) to one dimension with `ravel`\n",
        "\n"
      ]
    },
    {
      "cell_type": "code",
      "metadata": {
        "id": "WH_tsYaWFu7J",
        "colab_type": "code",
        "outputId": "7324fccb-1f36-4cd6-fd94-a73e9072c8ed",
        "colab": {}
      },
      "source": [
        "np.arange(4*2*4*2).reshape((4,2,4,2)).ravel()"
      ],
      "execution_count": 0,
      "outputs": [
        {
          "output_type": "stream",
          "text": [
            "array([ 0,  1,  2,  3,  4,  5,  6,  7,  8,  9, 10, 11, 12, 13, 14, 15, 16,\n",
            "       17, 18, 19, 20, 21, 22, 23, 24, 25, 26, 27, 28, 29, 30, 31, 32, 33,\n",
            "       34, 35, 36, 37, 38, 39, 40, 41, 42, 43, 44, 45, 46, 47, 48, 49, 50,\n",
            "       51, 52, 53, 54, 55, 56, 57, 58, 59, 60, 61, 62, 63])"
          ],
          "name": "stdout"
        }
      ]
    },
    {
      "cell_type": "markdown",
      "metadata": {
        "id": "VEbLYV8cFu7M",
        "colab_type": "text"
      },
      "source": [
        "## Array Indexing\n",
        "\n"
      ]
    },
    {
      "cell_type": "markdown",
      "metadata": {
        "id": "a98fts9DFu7N",
        "colab_type": "text"
      },
      "source": [
        "-   You can index numpy arrays as normal lists, but also you can put\n",
        "    multiple dimensions in one bracket with commas\n",
        "\n"
      ]
    },
    {
      "cell_type": "code",
      "metadata": {
        "id": "2xIsW7w0Fu7O",
        "colab_type": "code",
        "outputId": "bb5c9770-3b0b-4d71-b467-7d14b9bd21e8",
        "colab": {}
      },
      "source": [
        "np.arange(10)[2:4]"
      ],
      "execution_count": 0,
      "outputs": [
        {
          "output_type": "stream",
          "text": [
            "array([2, 3])"
          ],
          "name": "stdout"
        }
      ]
    },
    {
      "cell_type": "code",
      "metadata": {
        "id": "eZUaPs7OFu7Q",
        "colab_type": "code",
        "outputId": "7a45edfb-c75c-46ee-9422-b1cba6b47fc0",
        "colab": {}
      },
      "source": [
        "np.arange(100).reshape((10,10))[2:4,1:3]"
      ],
      "execution_count": 0,
      "outputs": [
        {
          "output_type": "stream",
          "text": [
            "array([[21, 22],\n",
            "       [31, 32]])"
          ],
          "name": "stdout"
        }
      ]
    },
    {
      "cell_type": "code",
      "metadata": {
        "id": "dOxgTo5oFu7R",
        "colab_type": "code",
        "outputId": "90d5b717-5fc0-4569-c526-d3fe6be4b118",
        "colab": {}
      },
      "source": [
        "np.arange(100).reshape((10,10))[2:4,:] # ':' to access the whole dimension"
      ],
      "execution_count": 0,
      "outputs": [
        {
          "output_type": "stream",
          "text": [
            "array([[20, 21, 22, 23, 24, 25, 26, 27, 28, 29],\n",
            "       [30, 31, 32, 33, 34, 35, 36, 37, 38, 39]])"
          ],
          "name": "stdout"
        }
      ]
    },
    {
      "cell_type": "markdown",
      "metadata": {
        "id": "tA9Q-hK9Fu7U",
        "colab_type": "text"
      },
      "source": [
        "Note, you're operating on subarrays, when you modify these, you modify the original array also!\n",
        "\n"
      ]
    },
    {
      "cell_type": "code",
      "metadata": {
        "id": "v0Ve76aXFu7U",
        "colab_type": "code",
        "outputId": "9e5a8530-9752-4d93-a253-f0a4b0fa9bc9",
        "colab": {}
      },
      "source": [
        "a = np.linspace(0,1,5)\n",
        "b = a[2:4] # make a subview of the array\n",
        "b[0] = 101.101\n",
        "a"
      ],
      "execution_count": 0,
      "outputs": [
        {
          "output_type": "stream",
          "text": [
            "array([  0.   ,   0.25 , 101.101,   0.75 ,   1.   ])"
          ],
          "name": "stdout"
        }
      ]
    },
    {
      "cell_type": "markdown",
      "metadata": {
        "id": "-2WD-fPJFu7X",
        "colab_type": "text"
      },
      "source": [
        "## Functions with numpy arrays\n",
        "\n"
      ]
    },
    {
      "cell_type": "markdown",
      "metadata": {
        "id": "_z02VTuIFu7Y",
        "colab_type": "text"
      },
      "source": [
        "`numpy` has many functions to operate on arrays, they often generalize\n",
        "standard functions to apply to the whole array. Standard math\n",
        "functions apply element-wise\n",
        "\n"
      ]
    },
    {
      "cell_type": "code",
      "metadata": {
        "id": "XXqgtJkZFu7Y",
        "colab_type": "code",
        "outputId": "d8bd7d35-503b-4995-f1ec-fafe1a6b9e8a",
        "colab": {}
      },
      "source": [
        "np.array([1,2,3,4]) + np.array([5,6,7,8])"
      ],
      "execution_count": 0,
      "outputs": [
        {
          "output_type": "stream",
          "text": [
            "array([ 6,  8, 10, 12])"
          ],
          "name": "stdout"
        }
      ]
    },
    {
      "cell_type": "markdown",
      "metadata": {
        "id": "nblMQYNMFu7a",
        "colab_type": "text"
      },
      "source": [
        "`sin`, `cos`, `exp`, `log`, etc are available and run element-wise over an array\n",
        "\n"
      ]
    },
    {
      "cell_type": "code",
      "metadata": {
        "id": "VuZ_Rgn6Fu7b",
        "colab_type": "code",
        "outputId": "da72a981-6b6b-4191-a321-875e49a0bb80",
        "colab": {}
      },
      "source": [
        "np.sin(np.linspace(0,np.pi/2.,4))"
      ],
      "execution_count": 0,
      "outputs": [
        {
          "output_type": "stream",
          "text": [
            "array([0.       , 0.5      , 0.8660254, 1.       ])"
          ],
          "name": "stdout"
        }
      ]
    },
    {
      "cell_type": "markdown",
      "metadata": {
        "id": "gJb-gWhCFu7c",
        "colab_type": "text"
      },
      "source": [
        "You can `transpose` matrices\n",
        "\n"
      ]
    },
    {
      "cell_type": "code",
      "metadata": {
        "id": "nje5h7VzFu7d",
        "colab_type": "code",
        "outputId": "70a7938d-7785-4bb5-e119-50cbafcc6f67",
        "colab": {}
      },
      "source": [
        "np.array([ [1,1.1], [2,2.1], [3,3.1], [4,4.1] ]).transpose()"
      ],
      "execution_count": 0,
      "outputs": [
        {
          "output_type": "stream",
          "text": [
            "array([[1. , 2. , 3. , 4. ],\n",
            "       [1.1, 2.1, 3.1, 4.1]])"
          ],
          "name": "stdout"
        }
      ]
    },
    {
      "cell_type": "markdown",
      "metadata": {
        "id": "Hku5fnS0Fu7e",
        "colab_type": "text"
      },
      "source": [
        "You should use the built-in functions when available and never iterate\n",
        "over an array in python! You'll lose all the benefits of numpy\n",
        "\n"
      ]
    },
    {
      "cell_type": "markdown",
      "metadata": {
        "id": "pP8dhPK8Fu7f",
        "colab_type": "text"
      },
      "source": [
        "## Broadcasting\n",
        "\n"
      ]
    },
    {
      "cell_type": "markdown",
      "metadata": {
        "id": "gPExPb5WFu7g",
        "colab_type": "text"
      },
      "source": [
        "You can also apply arguments in more complicated ways, for example,\n",
        "you can add a matrix by a row vector, so that each row in the matrix\n",
        "is added element-wise by the vector\n",
        "\n"
      ]
    },
    {
      "cell_type": "code",
      "metadata": {
        "id": "vtU2q5dIFu7g",
        "colab_type": "code",
        "outputId": "cab9775e-3988-4e14-fdfd-4c8244e92e82",
        "colab": {}
      },
      "source": [
        "v = np.array([1,2,3,4])\n",
        "m = np.array([ [1,2,3,4], [5,6,7,8], [3,4,5,6] ])\n",
        "m+v"
      ],
      "execution_count": 0,
      "outputs": [
        {
          "output_type": "stream",
          "text": [
            "array([[ 2,  4,  6,  8],\n",
            "       [ 6,  8, 10, 12],\n",
            "       [ 4,  6,  8, 10]])"
          ],
          "name": "stdout"
        }
      ]
    },
    {
      "cell_type": "markdown",
      "metadata": {
        "id": "jtRKp1Y5Fu7i",
        "colab_type": "text"
      },
      "source": [
        "This is called *broadcasting* an operation.\n",
        "\n",
        "The rules are:\n",
        "\n",
        "-   The lower dimension of the two inputs is padded to be the same\n",
        "    dimension, missing dimensions added on the left with size 1\n",
        "-   Any dimension of size 1 in either array is increased to the same\n",
        "    size as the other array, by copying the elements\n",
        "-   If the two arrays don't match size after this, then an error is thrown\n",
        "\n"
      ]
    },
    {
      "cell_type": "markdown",
      "metadata": {
        "id": "VAnod6jaFu7j",
        "colab_type": "text"
      },
      "source": [
        "## Broadcasting examples\n",
        "\n"
      ]
    },
    {
      "cell_type": "markdown",
      "metadata": {
        "id": "CdjRPNcEFu7j",
        "colab_type": "text"
      },
      "source": [
        "This allows e.g. adding or multiplying by a scalar, interpreted as a\n",
        "shape `(1,)` array\n",
        "\n"
      ]
    },
    {
      "cell_type": "code",
      "metadata": {
        "id": "M_tUL23nFu7k",
        "colab_type": "code",
        "outputId": "c023a087-e275-4c71-f686-902818d54b0f",
        "colab": {}
      },
      "source": [
        "# the scalar is shape (1,), so it gets expanded to (1,1): [[1,i]]\n",
        "# then copied out to (2,2): [[1,1], [1,1]]\n",
        "np.array([ [1,2], [3,4] ]) + 1"
      ],
      "execution_count": 0,
      "outputs": [
        {
          "output_type": "stream",
          "text": [
            "array([[2, 3],\n",
            "       [4, 5]])"
          ],
          "name": "stdout"
        }
      ]
    },
    {
      "cell_type": "code",
      "metadata": {
        "id": "XbU-iax2Fu7m",
        "colab_type": "code",
        "outputId": "65e37965-5ab8-4718-90ff-e7385b1a6f61",
        "colab": {}
      },
      "source": [
        "# the vector is shape (2,), so it gets expanded to (1,2): [[5,6]]\n",
        "# then copied out to (2,2): [[5,6],[5,6]]\n",
        "np.array([ [1,2], [3,4] ]) + np.array([5,6])"
      ],
      "execution_count": 0,
      "outputs": [
        {
          "output_type": "stream",
          "text": [
            "array([[ 6,  8],\n",
            "       [ 8, 10]])"
          ],
          "name": "stdout"
        }
      ]
    },
    {
      "cell_type": "code",
      "metadata": {
        "id": "24KV1iPCFu7n",
        "colab_type": "code",
        "outputId": "fca5f44f-1dfa-46bf-cec3-30f27482c576",
        "colab": {}
      },
      "source": [
        "# the vector is shape (2,), so it gets expanded to (1,2): [[5,6]]\n",
        "# then copied out to (2,2): [[5,6],[5,6]]\n",
        "# The matrix is shape (2,1) so it will be expanded to (2,2): [[1,1],[3,3]]\n",
        "np.array([ [1,], [3,] ]) + np.array([5,6])"
      ],
      "execution_count": 0,
      "outputs": [
        {
          "output_type": "stream",
          "text": [
            "array([[6, 7],\n",
            "       [8, 9]])"
          ],
          "name": "stdout"
        }
      ]
    },
    {
      "cell_type": "markdown",
      "metadata": {
        "id": "6bcnDAuPFu7p",
        "colab_type": "text"
      },
      "source": [
        "Broadcasting is an important concept in numpy, get used to it by\n",
        "playing around with variously shaped arrays and try\n",
        "adding/multiplying/etc.\n",
        "\n"
      ]
    },
    {
      "cell_type": "markdown",
      "metadata": {
        "id": "2WcFZmLVFu7p",
        "colab_type": "text"
      },
      "source": [
        "## A little matplotlib\n",
        "\n"
      ]
    },
    {
      "cell_type": "markdown",
      "metadata": {
        "id": "zTKfo8znFu7q",
        "colab_type": "text"
      },
      "source": [
        "You can plot 1d functions with `matplotlib.pyplot.plot(x,y)`.\n",
        "\n",
        "`x` and `y` should be arrays of the same length\n",
        "\n"
      ]
    },
    {
      "cell_type": "code",
      "metadata": {
        "id": "Ytx0X5YOFu7r",
        "colab_type": "code",
        "outputId": "0c6c7610-44ce-4c8c-9834-fd0e10d547d3",
        "colab": {}
      },
      "source": [
        "import matplotlib.pyplot as plt\n",
        "x = np.linspace(-np.pi/2+0.1,np.pi/2.-0.1,100)\n",
        "y = np.tan(x)\n",
        "plt.plot(x, y)"
      ],
      "execution_count": 0,
      "outputs": [
        {
          "output_type": "stream",
          "text": [
            "#+attr_latex: :width .495\\textwidth"
          ],
          "name": "stdout"
        },
        {
          "output_type": "display_data",
          "data": {
            "image/png": "[encoded data removed]",
            "text/plain": [
              "<matplotlib.figure.Figure>"
            ]
          },
          "metadata": {
            "tags": []
          }
        }
      ]
    },
    {
      "cell_type": "markdown",
      "metadata": {
        "id": "2b5tZmSZFu7t",
        "colab_type": "text"
      },
      "source": [
        "## Exercises\n",
        "\n"
      ]
    },
    {
      "cell_type": "markdown",
      "metadata": {
        "id": "UlUJ8HoTFu7t",
        "colab_type": "text"
      },
      "source": [
        "The exercises are included in the ipynb in the repository, you should\n",
        "do all the exercises and save it to github for marking (see the\n",
        "following pages for instructions on how to use colab).\n",
        "\n",
        "`numpy` gives a full range of linear algebra functions operating on\n",
        "arrays. The exercises will review a few basic operations and go\n",
        "through some of the linear algebra functions available.\n",
        "\n",
        "If you need more help, try looking through the:\n",
        "\n",
        "-   **Reference** <span class=\"underline\">[Introduction To NumPy](https://jakevdp.github.io/PythonDataScienceHandbook/02.00-introduction-to-numpy.html)</span> from \"Python Data Science Handbook\"\n",
        "\n",
        "Run this first to import `numpy`. The output value of the final line\n",
        "of the cell block will be shown in the results section. Note that all\n",
        "cells are run in a single python interpreter, so variables you define\n",
        "will remain across cells. If you get into a bad state (e.g. you create\n",
        "an infinite loop), you can restart the interpreter again by choosing\n",
        "\"Runtime\" then \"Restart runtime\". If you do this, all state will be\n",
        "lost, so you will need to rerun all the cells.\n",
        "\n"
      ]
    },
    {
      "cell_type": "code",
      "metadata": {
        "id": "UO2ry4J5Fu7u",
        "colab_type": "code",
        "colab": {}
      },
      "source": [
        "import numpy as np"
      ],
      "execution_count": 0,
      "outputs": []
    },
    {
      "cell_type": "markdown",
      "metadata": {
        "id": "ax6aO2LMFu7w",
        "colab_type": "text"
      },
      "source": [
        "Try running this and see what happens. Is it helpful?\n",
        "\n"
      ]
    },
    {
      "cell_type": "code",
      "metadata": {
        "id": "-kKpf_ymFu7x",
        "colab_type": "code",
        "outputId": "dd8643cd-784c-4021-fa21-864ed4ddea80",
        "colab": {
          "base_uri": "https://localhost:8080/",
          "height": 35
        }
      },
      "source": [
        "?np.sin"
      ],
      "execution_count": 0,
      "outputs": [
        {
          "output_type": "stream",
          "text": [
            "Object `np.sin` not found.\n"
          ],
          "name": "stdout"
        }
      ]
    },
    {
      "cell_type": "markdown",
      "metadata": {
        "id": "Lv0cinCGFu7y",
        "colab_type": "text"
      },
      "source": [
        "Now create a 1D array, filled with 5 0s, i.e. the output should show\n",
        "`array([0., 0., 0., 0., 0.])`\n",
        "\n"
      ]
    },
    {
      "cell_type": "code",
      "metadata": {
        "id": "AE0GXq3fFu7z",
        "colab_type": "code",
        "outputId": "816d335d-d8d9-40b1-a21d-d0fc2ca16d12",
        "colab": {
          "base_uri": "https://localhost:8080/",
          "height": 35
        }
      },
      "source": [
        "np.array((0.,0.,0.,0.,0.))"
      ],
      "execution_count": 0,
      "outputs": [
        {
          "output_type": "execute_result",
          "data": {
            "text/plain": [
              "array([0., 0., 0., 0., 0.])"
            ]
          },
          "metadata": {
            "tags": []
          },
          "execution_count": 8
        }
      ]
    },
    {
      "cell_type": "markdown",
      "metadata": {
        "id": "M9vJkoITFu71",
        "colab_type": "text"
      },
      "source": [
        "Create a 1D array with the numbers 1-6. Reshape it to a 3x2 array (3\n",
        "rows, 2 columns) with rows 1,2 then 3,4, then 5,6\n",
        "\n"
      ]
    },
    {
      "cell_type": "code",
      "metadata": {
        "id": "JKmfqLHWFu72",
        "colab_type": "code",
        "outputId": "27a67f13-e176-4b93-fecc-cb14c28f306b",
        "colab": {
          "base_uri": "https://localhost:8080/",
          "height": 71
        }
      },
      "source": [
        "np.arange(1,7).reshape(3,2)"
      ],
      "execution_count": 0,
      "outputs": [
        {
          "output_type": "execute_result",
          "data": {
            "text/plain": [
              "array([[1, 2],\n",
              "       [3, 4],\n",
              "       [5, 6]])"
            ]
          },
          "metadata": {
            "tags": []
          },
          "execution_count": 10
        }
      ]
    },
    {
      "cell_type": "markdown",
      "metadata": {
        "id": "gNuD8HQhFu73",
        "colab_type": "text"
      },
      "source": [
        "Create a 1D array with the numbers 1-6. Reshape it to a 3x2 array (3\n",
        "rows, 2 columns) with rows 1,4 then 2,5, then 3,6 (i.e. columns 1,2,3\n",
        "and 4,5,6). It shouldn't take more than 2 function calls after you\n",
        "create the array.\n",
        "\n"
      ]
    },
    {
      "cell_type": "code",
      "metadata": {
        "id": "Jd39yAmqFu74",
        "colab_type": "code",
        "outputId": "fe5b0dd7-9d56-4e05-a674-d45f6110ffde",
        "colab": {
          "base_uri": "https://localhost:8080/",
          "height": 71
        }
      },
      "source": [
        "np.arange(1,7).reshape(2,3).T"
      ],
      "execution_count": 0,
      "outputs": [
        {
          "output_type": "execute_result",
          "data": {
            "text/plain": [
              "array([[1, 4],\n",
              "       [2, 5],\n",
              "       [3, 6]])"
            ]
          },
          "metadata": {
            "tags": []
          },
          "execution_count": 12
        }
      ]
    },
    {
      "cell_type": "markdown",
      "metadata": {
        "id": "F-M6YCYWFu75",
        "colab_type": "text"
      },
      "source": [
        "Use `matplotlib.pyplot` and `numpy`'s trig functions to draw the `log`\n",
        "function from 0.1 to 2. Make sure to sample `log` from enough points\n",
        "to get a smooth curve. You'll need to import `matplotlib`.\n",
        "\n"
      ]
    },
    {
      "cell_type": "code",
      "metadata": {
        "id": "a_IWB9YrFu76",
        "colab_type": "code",
        "outputId": "da68dd31-5a5d-43da-fcb5-5c82314bfabd",
        "colab": {
          "base_uri": "https://localhost:8080/",
          "height": 244
        }
      },
      "source": [
        "import matplotlib.pyplot as plt\n",
        "import math\n",
        "\n",
        "# Using 2 arrays and scale of x from 0.1 to 2\n",
        "\n",
        "x=np.arange(0.1,2,0.01)\n",
        "y=np.log(np.arange(0.1,2,0.01))\n",
        "\n",
        " # print(\"Using 2 arrays and scale of x from 0.1 to 2\")\n",
        " # plt.plot(x,y)\n",
        "\n",
        "# Using 1 array and scale of y from 0.1 to 2\n",
        "\n",
        "data=np.array((np.arange(pow(np.e,0.1),pow(np.e,2),0.01),np.log(np.arange(pow(np.e,0.1),pow(np.e,2),0.01))))\n",
        "\n",
        "print(\"Using 1 array and scale of y from 0.1 to 2\")\n",
        "plt.plot(data[0],data[1])\n"
      ],
      "execution_count": 2,
      "outputs": [
        {
          "output_type": "error",
          "ename": "NameError",
          "evalue": "ignored",
          "traceback": [
            "\u001b[0;31m---------------------------------------------------------------------------\u001b[0m",
            "\u001b[0;31mNameError\u001b[0m                                 Traceback (most recent call last)",
            "\u001b[0;32m<ipython-input-2-9493bdc1c8fd>\u001b[0m in \u001b[0;36m<module>\u001b[0;34m()\u001b[0m\n\u001b[1;32m      4\u001b[0m \u001b[0;31m# Using 2 arrays and scale of x from 0.1 to 2\u001b[0m\u001b[0;34m\u001b[0m\u001b[0;34m\u001b[0m\u001b[0;34m\u001b[0m\u001b[0m\n\u001b[1;32m      5\u001b[0m \u001b[0;34m\u001b[0m\u001b[0m\n\u001b[0;32m----> 6\u001b[0;31m \u001b[0mx\u001b[0m\u001b[0;34m=\u001b[0m\u001b[0mnp\u001b[0m\u001b[0;34m.\u001b[0m\u001b[0marange\u001b[0m\u001b[0;34m(\u001b[0m\u001b[0;36m0.1\u001b[0m\u001b[0;34m,\u001b[0m\u001b[0;36m2\u001b[0m\u001b[0;34m,\u001b[0m\u001b[0;36m0.01\u001b[0m\u001b[0;34m)\u001b[0m\u001b[0;34m\u001b[0m\u001b[0;34m\u001b[0m\u001b[0m\n\u001b[0m\u001b[1;32m      7\u001b[0m \u001b[0my\u001b[0m\u001b[0;34m=\u001b[0m\u001b[0mnp\u001b[0m\u001b[0;34m.\u001b[0m\u001b[0mlog\u001b[0m\u001b[0;34m(\u001b[0m\u001b[0mnp\u001b[0m\u001b[0;34m.\u001b[0m\u001b[0marange\u001b[0m\u001b[0;34m(\u001b[0m\u001b[0;36m0.1\u001b[0m\u001b[0;34m,\u001b[0m\u001b[0;36m2\u001b[0m\u001b[0;34m,\u001b[0m\u001b[0;36m0.01\u001b[0m\u001b[0;34m)\u001b[0m\u001b[0;34m)\u001b[0m\u001b[0;34m\u001b[0m\u001b[0;34m\u001b[0m\u001b[0m\n\u001b[1;32m      8\u001b[0m \u001b[0;34m\u001b[0m\u001b[0m\n",
            "\u001b[0;31mNameError\u001b[0m: name 'np' is not defined"
          ]
        }
      ]
    },
    {
      "cell_type": "markdown",
      "metadata": {
        "id": "jwlanCVhFu78",
        "colab_type": "text"
      },
      "source": [
        "Draw `sin` and `cos` between 0 and &pi; (on one plot)\n",
        "\n"
      ]
    },
    {
      "cell_type": "code",
      "metadata": {
        "id": "_jqDbP4-Fu78",
        "colab_type": "code",
        "outputId": "7a87ea37-08bb-4679-a646-65593c650ca4",
        "colab": {
          "base_uri": "https://localhost:8080/",
          "height": 331
        }
      },
      "source": [
        "data=np.array((np.arange(0,np.pi,0.01),np.sin(np.arange(0,np.pi,0.01)),np.cos(np.arange(0,np.pi,0.01))))\n",
        "\n",
        "fig, ax = plt.subplots()\n",
        "ax.plot(data[0],data[1])\n",
        "ax.plot(data[0],data[2])\n",
        "ax.set_xlabel('x label')\n",
        "ax.set_ylabel('y label')\n",
        "ax.set_title('sin(x) and cos(x)')\n",
        "ax.legend()\n"
      ],
      "execution_count": 0,
      "outputs": [
        {
          "output_type": "stream",
          "text": [
            "No handles with labels found to put in legend.\n"
          ],
          "name": "stderr"
        },
        {
          "output_type": "execute_result",
          "data": {
            "text/plain": [
              "<matplotlib.legend.Legend at 0x7f1f3992e2b0>"
            ]
          },
          "metadata": {
            "tags": []
          },
          "execution_count": 33
        },
        {
          "output_type": "display_data",
          "data": {
            "image/png": "[encoded data removed]",
            "text/plain": [
              "<Figure size 432x288 with 1 Axes>"
            ]
          },
          "metadata": {
            "tags": []
          }
        }
      ]
    },
    {
      "cell_type": "markdown",
      "metadata": {
        "id": "uUwY_aFUFu7-",
        "colab_type": "text"
      },
      "source": [
        "Create an array of 1 to 10, multiply each element of the array by 5.\n",
        "\n"
      ]
    },
    {
      "cell_type": "code",
      "metadata": {
        "id": "o3t4aGeuFu7_",
        "colab_type": "code",
        "outputId": "8d80c931-f0e4-4529-f015-cff8c141ae68",
        "colab": {
          "base_uri": "https://localhost:8080/",
          "height": 35
        }
      },
      "source": [
        "np.arange(1,11)*5   "
      ],
      "execution_count": 0,
      "outputs": [
        {
          "output_type": "execute_result",
          "data": {
            "text/plain": [
              "array([ 5, 10, 15, 20, 25, 30, 35, 40, 45, 50])"
            ]
          },
          "metadata": {
            "tags": []
          },
          "execution_count": 35
        }
      ]
    },
    {
      "cell_type": "markdown",
      "metadata": {
        "id": "FnrGSMFOFu8C",
        "colab_type": "text"
      },
      "source": [
        "Create a 3x3 matrix like this:\n",
        "$$A = \\begin{bmatrix} 1 & 2 & 3 \\\\ 4 & 5 & 6 \\\\ 7 & 8 & 9 \\end{bmatrix}$$\n",
        "multiply each element by 3\n",
        "\n"
      ]
    },
    {
      "cell_type": "code",
      "metadata": {
        "id": "tiWWoGjWFu8C",
        "colab_type": "code",
        "outputId": "3dbd9165-1ed1-4140-8054-d14460fdd13a",
        "colab": {
          "base_uri": "https://localhost:8080/",
          "height": 71
        }
      },
      "source": [
        "A= np.arange(1,10).reshape(3,3)\n",
        "A*3"
      ],
      "execution_count": 0,
      "outputs": [
        {
          "output_type": "execute_result",
          "data": {
            "text/plain": [
              "array([[ 3,  6,  9],\n",
              "       [12, 15, 18],\n",
              "       [21, 24, 27]])"
            ]
          },
          "metadata": {
            "tags": []
          },
          "execution_count": 41
        }
      ]
    },
    {
      "cell_type": "markdown",
      "metadata": {
        "id": "N2jKg7YnFu8F",
        "colab_type": "text"
      },
      "source": [
        "With the same initial matrix $A$ from the last cell, multiply each\n",
        "**row** by $(1,2,3)$ (**not** matrix multiplication)\n",
        "\n"
      ]
    },
    {
      "cell_type": "code",
      "metadata": {
        "id": "lDxxkipMFu8F",
        "colab_type": "code",
        "outputId": "15f64ab9-ab4a-46da-af90-df79b2a55d57",
        "colab": {
          "base_uri": "https://localhost:8080/",
          "height": 71
        }
      },
      "source": [
        "A * np.array((1,2,3))"
      ],
      "execution_count": 0,
      "outputs": [
        {
          "output_type": "execute_result",
          "data": {
            "text/plain": [
              "array([[ 1,  4,  9],\n",
              "       [ 4, 10, 18],\n",
              "       [ 7, 16, 27]])"
            ]
          },
          "metadata": {
            "tags": []
          },
          "execution_count": 43
        }
      ]
    },
    {
      "cell_type": "markdown",
      "metadata": {
        "id": "PDv6UigzFu8H",
        "colab_type": "text"
      },
      "source": [
        "With the same initial matrix $A$ from the last cell, multiply each\n",
        "**column** by $x=(1,2,3)$ (**not** matrix multiplication) (you'll have to\n",
        "reshape x somehow)\n",
        "\n"
      ]
    },
    {
      "cell_type": "code",
      "metadata": {
        "id": "UAcriPJ3Fu8I",
        "colab_type": "code",
        "outputId": "d767d7be-762e-4797-8126-38498d4fcd2a",
        "colab": {
          "base_uri": "https://localhost:8080/",
          "height": 71
        }
      },
      "source": [
        "x=np.array((1,2,3))\n",
        "A*x.reshape(3,1)"
      ],
      "execution_count": 0,
      "outputs": [
        {
          "output_type": "execute_result",
          "data": {
            "text/plain": [
              "array([[ 1,  2,  3],\n",
              "       [ 8, 10, 12],\n",
              "       [21, 24, 27]])"
            ]
          },
          "metadata": {
            "tags": []
          },
          "execution_count": 46
        }
      ]
    },
    {
      "cell_type": "markdown",
      "metadata": {
        "id": "6e24sza_Fu8K",
        "colab_type": "text"
      },
      "source": [
        "Now, do the standard matrix-vector multiplication $(Ax)_i = \\sum_j\n",
        "A_{ij} x_j$ with A and x from the previous questions. `numpy.matmul`\n",
        "can do matrix-style multiplication\n",
        "\n"
      ]
    },
    {
      "cell_type": "code",
      "metadata": {
        "id": "2AYG0DpgFu8K",
        "colab_type": "code",
        "outputId": "8796f506-0788-417d-9a46-c42736d70526",
        "colab": {
          "base_uri": "https://localhost:8080/",
          "height": 35
        }
      },
      "source": [
        "np.matmul(A,x)"
      ],
      "execution_count": 0,
      "outputs": [
        {
          "output_type": "execute_result",
          "data": {
            "text/plain": [
              "array([14, 32, 50])"
            ]
          },
          "metadata": {
            "tags": []
          },
          "execution_count": 47
        }
      ]
    },
    {
      "cell_type": "markdown",
      "metadata": {
        "id": "Vj-7LcmbFu8M",
        "colab_type": "text"
      },
      "source": [
        "Create a matrix where each element is the square of the corresponding\n",
        "element of A\n",
        "\n"
      ]
    },
    {
      "cell_type": "code",
      "metadata": {
        "id": "f5xZlFRZFu8N",
        "colab_type": "code",
        "outputId": "6faafaa7-6ce7-44d9-8663-db81c53d5337",
        "colab": {
          "base_uri": "https://localhost:8080/",
          "height": 71
        }
      },
      "source": [
        "np.square(A)"
      ],
      "execution_count": 0,
      "outputs": [
        {
          "output_type": "execute_result",
          "data": {
            "text/plain": [
              "array([[ 1,  4,  9],\n",
              "       [16, 25, 36],\n",
              "       [49, 64, 81]])"
            ]
          },
          "metadata": {
            "tags": []
          },
          "execution_count": 49
        }
      ]
    },
    {
      "cell_type": "markdown",
      "metadata": {
        "id": "kJDWtDTXFu8P",
        "colab_type": "text"
      },
      "source": [
        "Now, find $A^2$ using matrix multiplication\n",
        "\n"
      ]
    },
    {
      "cell_type": "code",
      "metadata": {
        "id": "BP9aLKLlFu8Q",
        "colab_type": "code",
        "outputId": "34518513-9852-4242-aca3-a4e5c7d59132",
        "colab": {
          "base_uri": "https://localhost:8080/",
          "height": 71
        }
      },
      "source": [
        "# What do you mean by A^2 in matrix multiplication\n",
        "\n",
        "np.matmul(A,A)"
      ],
      "execution_count": 0,
      "outputs": [
        {
          "output_type": "execute_result",
          "data": {
            "text/plain": [
              "array([[ 30,  36,  42],\n",
              "       [ 66,  81,  96],\n",
              "       [102, 126, 150]])"
            ]
          },
          "metadata": {
            "tags": []
          },
          "execution_count": 51
        }
      ]
    },
    {
      "cell_type": "markdown",
      "metadata": {
        "id": "GoqVA2ccFu8R",
        "colab_type": "text"
      },
      "source": [
        "*Using* numpy arrays, sum the numbers from 1 to 1000 (inclusive,\n",
        "(meaning, include the endpoints)).\n",
        "\n"
      ]
    },
    {
      "cell_type": "code",
      "metadata": {
        "id": "ELt-3hXoFu8S",
        "colab_type": "code",
        "outputId": "b78133eb-fe9a-4283-bc4d-d37f09866fc7",
        "colab": {
          "base_uri": "https://localhost:8080/",
          "height": 35
        }
      },
      "source": [
        "np.sum(np.arange(1,1001))"
      ],
      "execution_count": 0,
      "outputs": [
        {
          "output_type": "execute_result",
          "data": {
            "text/plain": [
              "500500"
            ]
          },
          "metadata": {
            "tags": []
          },
          "execution_count": 52
        }
      ]
    },
    {
      "cell_type": "markdown",
      "metadata": {
        "id": "-YV-ARNnFu8U",
        "colab_type": "text"
      },
      "source": [
        "Using numpy arrays, and sum all the multiples of 3 or 5 from 1\n",
        "to 1000.\n",
        "\n",
        "[A shorter example: If we list all the numbers between 1 and 10 that\n",
        "are multiples of 3 or 5, we get 3, 5, 6 and 9. The sum of these\n",
        "multiples is 23.]\n",
        "\n",
        "[ If you don't know how to start, look up the help for `np.vectorize`\n",
        "and `np.sum` (look for `where`) ]\n",
        "\n"
      ]
    },
    {
      "cell_type": "code",
      "metadata": {
        "id": "XcWhH3mLujy2",
        "colab_type": "code",
        "outputId": "9306e5ee-ca8b-4077-b15d-d7d6b3bfb18c",
        "colab": {
          "base_uri": "https://localhost:8080/",
          "height": 35
        }
      },
      "source": [
        "x=np.arange(1001)\n",
        "index=np.vectorize(lambda x: x%3==0 or x%5==0)(x)\n",
        "x.sum(where=index)"
      ],
      "execution_count": 21,
      "outputs": [
        {
          "output_type": "execute_result",
          "data": {
            "text/plain": [
              "234168"
            ]
          },
          "metadata": {
            "tags": []
          },
          "execution_count": 21
        }
      ]
    },
    {
      "cell_type": "code",
      "metadata": {
        "id": "Ew4ZWLt6Fu8W",
        "colab_type": "code",
        "outputId": "365a997d-150c-4ff0-d542-f0901a6d6224",
        "colab": {
          "base_uri": "https://localhost:8080/",
          "height": 71
        }
      },
      "source": [
        "%%time\n",
        "x = np.arange(1001)\n",
        "i=np.vectorize(lambda x: x%3==0 or x%5==0)(x)\n",
        "print(x.sum(where=i))"
      ],
      "execution_count": 123,
      "outputs": [
        {
          "output_type": "stream",
          "text": [
            "234168\n",
            "CPU times: user 406 µs, sys: 978 µs, total: 1.38 ms\n",
            "Wall time: 1.25 ms\n"
          ],
          "name": "stdout"
        }
      ]
    },
    {
      "cell_type": "code",
      "metadata": {
        "id": "7oRzYon1Fu8X",
        "colab_type": "code",
        "outputId": "cfe5f577-d59d-481f-94d6-de0e99ca4481",
        "colab": {
          "base_uri": "https://localhost:8080/",
          "height": 71
        }
      },
      "source": [
        "%%time\n",
        "\n",
        "sum = 0\n",
        "for i in range(1001):\n",
        "    if (i%3==0 or i%5==0):sum+=i\n",
        "\n",
        "print(sum)\n"
      ],
      "execution_count": 18,
      "outputs": [
        {
          "output_type": "stream",
          "text": [
            "234168\n",
            "CPU times: user 543 µs, sys: 0 ns, total: 543 µs\n",
            "Wall time: 1.13 ms\n"
          ],
          "name": "stdout"
        }
      ]
    },
    {
      "cell_type": "markdown",
      "metadata": {
        "id": "3RmTI3YIFu8Z",
        "colab_type": "text"
      },
      "source": [
        "Some extra space for you to play around with plotting functions,\n",
        "testing numpy broadcasting, and so on. Remember to save to github when\n",
        "you're finished!\n",
        "\n"
      ]
    },
    {
      "cell_type": "code",
      "metadata": {
        "id": "50k-rsaWFu8Z",
        "colab_type": "code",
        "outputId": "2e483650-8edd-48cd-f6b4-02ee4daab70f",
        "colab": {
          "base_uri": "https://localhost:8080/",
          "height": 331
        }
      },
      "source": [
        " # Plotting Chicken-Pizza curve\n",
        "\n",
        "# How many chickens and pizza could I order with my budget $180\n",
        "\n",
        "import matplotlib.pyplot as plt\n",
        "import numpy as np\n",
        "\n",
        "budget= 180  #bucks\n",
        "\n",
        "price=np.array([16,19]) #bucks\n",
        "\n",
        "xv=np.array(np.meshgrid(np.arange(budget//chicken),np.arange(budget/pizza))).T.reshape(-1,2)\n",
        "\n",
        "index=np.matmul(xv,price)<=180\n",
        "\n",
        "selected=xv[index].T\n",
        "\n",
        "fig, ax = plt.subplots()\n",
        "ax.scatter(selected[0],selected[1])\n",
        "ax.set_xlabel('# of chicken')\n",
        "ax.set_ylabel('# of pizza')\n",
        "ax.set_title('possible # of chicken and pizza')\n"
      ],
      "execution_count": 165,
      "outputs": [
        {
          "output_type": "stream",
          "text": [
            "No handles with labels found to put in legend.\n"
          ],
          "name": "stderr"
        },
        {
          "output_type": "execute_result",
          "data": {
            "text/plain": [
              "<matplotlib.legend.Legend at 0x7f8e37235278>"
            ]
          },
          "metadata": {
            "tags": []
          },
          "execution_count": 165
        },
        {
          "output_type": "display_data",
          "data": {
            "image/png": "[encoded data removed]",
            "text/plain": [
              "<Figure size 432x288 with 1 Axes>"
            ]
          },
          "metadata": {
            "tags": []
          }
        }
      ]
    },
    {
      "cell_type": "code",
      "metadata": {
        "id": "FjtXgRsNFu8b",
        "colab_type": "code",
        "colab": {
          "base_uri": "https://localhost:8080/",
          "height": 265
        },
        "outputId": "1f383a9b-513c-42a3-9f22-f12552708b0e"
      },
      "source": [
        "# Draw few lines in one graph\n",
        "\n",
        "points=np.arange(0,3,0.5)\n",
        "plt.plot(points,points,'rs:',points,points**2,'b^-',points,points**3,'g--')\n",
        "plt.show()"
      ],
      "execution_count": 171,
      "outputs": [
        {
          "output_type": "display_data",
          "data": {
            "image/png": "[encoded data removed]",
            "text/plain": [
              "<Figure size 432x288 with 1 Axes>"
            ]
          },
          "metadata": {
            "tags": []
          }
        }
      ]
    },
    {
      "cell_type": "code",
      "metadata": {
        "id": "8nfxjYryFu8c",
        "colab_type": "code",
        "colab": {
          "base_uri": "https://localhost:8080/",
          "height": 513
        },
        "outputId": "24e1ee2a-41a3-47a9-f6a1-0097be53e474"
      },
      "source": [
        "sample=np.random.randn(100)\n",
        "#plt.plot(sample)\n",
        "plt.hist(sample,bins=10)\n",
        "plt.show()\n",
        "\n",
        "sample=np.random.randn(1000)\n",
        "#plt.plot(sample)\n",
        "plt.hist(sample,bins=100)\n",
        "plt.show()"
      ],
      "execution_count": 185,
      "outputs": [
        {
          "output_type": "display_data",
          "data": {
            "image/png": "[encoded data removed]",
            "text/plain": [
              "<Figure size 432x288 with 1 Axes>"
            ]
          },
          "metadata": {
            "tags": []
          }
        },
        {
          "output_type": "display_data",
          "data": {
            "image/png": "[encoded data removed]",
            "text/plain": [
              "<Figure size 432x288 with 1 Axes>"
            ]
          },
          "metadata": {
            "tags": []
          }
        }
      ]
    },
    {
      "cell_type": "markdown",
      "metadata": {
        "id": "I4sAtdGeFu8d",
        "colab_type": "text"
      },
      "source": [
        "You can list all the objects in numpy and see if theres anything\n",
        "interesting to you:\n",
        "\n"
      ]
    },
    {
      "cell_type": "code",
      "metadata": {
        "id": "V_V5MaxBFu8e",
        "colab_type": "code",
        "outputId": "a3773031-91ba-42e7-a76c-031b02085546",
        "colab": {}
      },
      "source": [
        "for obj in dir(np):\n",
        "  print(obj)"
      ],
      "execution_count": 0,
      "outputs": [
        {
          "output_type": "stream",
          "text": [
            "#+begin_example\n",
            "  ALLOW_THREADS\n",
            "  AxisError\n",
            "  BUFSIZE\n",
            "  CLIP\n",
            "  ComplexWarning\n",
            "  DataSource\n",
            "  ERR_CALL\n",
            "  ERR_DEFAULT\n",
            "  ERR_IGNORE\n",
            "  ERR_LOG\n",
            "  ERR_PRINT\n",
            "  ERR_RAISE\n",
            "  ERR_WARN\n",
            "  FLOATING_POINT_SUPPORT\n",
            "  FPE_DIVIDEBYZERO\n",
            "  FPE_INVALID\n",
            "  FPE_OVERFLOW\n",
            "  FPE_UNDERFLOW\n",
            "  False_\n",
            "  Inf\n",
            "  Infinity\n",
            "  MAXDIMS\n",
            "  MAY_SHARE_BOUNDS\n",
            "  MAY_SHARE_EXACT\n",
            "  MachAr\n",
            "  ModuleDeprecationWarning\n",
            "  NAN\n",
            "  NINF\n",
            "  NZERO\n",
            "  NaN\n",
            "  PINF\n",
            "  PZERO\n",
            "  RAISE\n",
            "  RankWarning\n",
            "  SHIFT_DIVIDEBYZERO\n",
            "  SHIFT_INVALID\n",
            "  SHIFT_OVERFLOW\n",
            "  SHIFT_UNDERFLOW\n",
            "  ScalarType\n",
            "  Tester\n",
            "  TooHardError\n",
            "  True_\n",
            "  UFUNC_BUFSIZE_DEFAULT\n",
            "  UFUNC_PYVALS_NAME\n",
            "  VisibleDeprecationWarning\n",
            "  WRAP\n",
            "  _NoValue\n",
            "  _UFUNC_API\n",
            "  __NUMPY_SETUP__\n",
            "  __all__\n",
            "  __builtins__\n",
            "  __cached__\n",
            "  __config__\n",
            "  __doc__\n",
            "  __file__\n",
            "  __git_revision__\n",
            "  __loader__\n",
            "  __name__\n",
            "  __package__\n",
            "  __path__\n",
            "  __spec__\n",
            "  __version__\n",
            "  _add_newdoc_ufunc\n",
            "  _distributor_init\n",
            "  _globals\n",
            "  _mat\n",
            "  _pytesttester\n",
            "  abs\n",
            "  absolute\n",
            "  absolute_import\n",
            "  add\n",
            "  add_docstring\n",
            "  add_newdoc\n",
            "  add_newdoc_ufunc\n",
            "  alen\n",
            "  all\n",
            "  allclose\n",
            "  alltrue\n",
            "  amax\n",
            "  amin\n",
            "  angle\n",
            "  any\n",
            "  append\n",
            "  apply_along_axis\n",
            "  apply_over_axes\n",
            "  arange\n",
            "  arccos\n",
            "  arccosh\n",
            "  arcsin\n",
            "  arcsinh\n",
            "  arctan\n",
            "  arctan2\n",
            "  arctanh\n",
            "  argmax\n",
            "  argmin\n",
            "  argpartition\n",
            "  argsort\n",
            "  argwhere\n",
            "  around\n",
            "  array\n",
            "  array2string\n",
            "  array_equal\n",
            "  array_equiv\n",
            "  array_repr\n",
            "  array_split\n",
            "  array_str\n",
            "  asanyarray\n",
            "  asarray\n",
            "  asarray_chkfinite\n",
            "  ascontiguousarray\n",
            "  asfarray\n",
            "  asfortranarray\n",
            "  asmatrix\n",
            "  asscalar\n",
            "  atleast_1d\n",
            "  atleast_2d\n",
            "  atleast_3d\n",
            "  average\n",
            "  bartlett\n",
            "  base_repr\n",
            "  binary_repr\n",
            "  bincount\n",
            "  bitwise_and\n",
            "  bitwise_not\n",
            "  bitwise_or\n",
            "  bitwise_xor\n",
            "  blackman\n",
            "  block\n",
            "  bmat\n",
            "  bool\n",
            "  bool8\n",
            "  bool_\n",
            "  broadcast\n",
            "  broadcast_arrays\n",
            "  broadcast_to\n",
            "  busday_count\n",
            "  busday_offset\n",
            "  busdaycalendar\n",
            "  byte\n",
            "  byte_bounds\n",
            "  bytes0\n",
            "  bytes_\n",
            "  c_\n",
            "  can_cast\n",
            "  cast\n",
            "  cbrt\n",
            "  cdouble\n",
            "  ceil\n",
            "  cfloat\n",
            "  char\n",
            "  character\n",
            "  chararray\n",
            "  choose\n",
            "  clip\n",
            "  clongdouble\n",
            "  clongfloat\n",
            "  column_stack\n",
            "  common_type\n",
            "  compare_chararrays\n",
            "  compat\n",
            "  complex\n",
            "  complex128\n",
            "  complex256\n",
            "  complex64\n",
            "  complex_\n",
            "  complexfloating\n",
            "  compress\n",
            "  concatenate\n",
            "  conj\n",
            "  conjugate\n",
            "  convolve\n",
            "  copy\n",
            "  copysign\n",
            "  copyto\n",
            "  core\n",
            "  corrcoef\n",
            "  correlate\n",
            "  cos\n",
            "  cosh\n",
            "  count_nonzero\n",
            "  cov\n",
            "  cross\n",
            "  csingle\n",
            "  ctypeslib\n",
            "  cumprod\n",
            "  cumproduct\n",
            "  cumsum\n",
            "  datetime64\n",
            "  datetime_as_string\n",
            "  datetime_data\n",
            "  deg2rad\n",
            "  degrees\n",
            "  delete\n",
            "  deprecate\n",
            "  deprecate_with_doc\n",
            "  diag\n",
            "  diag_indices\n",
            "  diag_indices_from\n",
            "  diagflat\n",
            "  diagonal\n",
            "  diff\n",
            "  digitize\n",
            "  disp\n",
            "  divide\n",
            "  division\n",
            "  divmod\n",
            "  dot\n",
            "  double\n",
            "  dsplit\n",
            "  dstack\n",
            "  dtype\n",
            "  e\n",
            "  ediff1d\n",
            "  einsum\n",
            "  einsum_path\n",
            "  emath\n",
            "  empty\n",
            "  empty_like\n",
            "  equal\n",
            "  errstate\n",
            "  euler_gamma\n",
            "  exp\n",
            "  exp2\n",
            "  expand_dims\n",
            "  expm1\n",
            "  extract\n",
            "  eye\n",
            "  fabs\n",
            "  fastCopyAndTranspose\n",
            "  fft\n",
            "  fill_diagonal\n",
            "  find_common_type\n",
            "  finfo\n",
            "  fix\n",
            "  flatiter\n",
            "  flatnonzero\n",
            "  flexible\n",
            "  flip\n",
            "  fliplr\n",
            "  flipud\n",
            "  float\n",
            "  float128\n",
            "  float16\n",
            "  float32\n",
            "  float64\n",
            "  float_\n",
            "  float_power\n",
            "  floating\n",
            "  floor\n",
            "  floor_divide\n",
            "  fmax\n",
            "  fmin\n",
            "  fmod\n",
            "  format_float_positional\n",
            "  format_float_scientific\n",
            "  format_parser\n",
            "  frexp\n",
            "  frombuffer\n",
            "  fromfile\n",
            "  fromfunction\n",
            "  fromiter\n",
            "  frompyfunc\n",
            "  fromregex\n",
            "  fromstring\n",
            "  full\n",
            "  full_like\n",
            "  fv\n",
            "  gcd\n",
            "  generic\n",
            "  genfromtxt\n",
            "  geomspace\n",
            "  get_array_wrap\n",
            "  get_include\n",
            "  get_printoptions\n",
            "  getbufsize\n",
            "  geterr\n",
            "  geterrcall\n",
            "  geterrobj\n",
            "  gradient\n",
            "  greater\n",
            "  greater_equal\n",
            "  half\n",
            "  hamming\n",
            "  hanning\n",
            "  heaviside\n",
            "  histogram\n",
            "  histogram2d\n",
            "  histogram_bin_edges\n",
            "  histogramdd\n",
            "  hsplit\n",
            "  hstack\n",
            "  hypot\n",
            "  i0\n",
            "  identity\n",
            "  iinfo\n",
            "  imag\n",
            "  in1d\n",
            "  index_exp\n",
            "  indices\n",
            "  inexact\n",
            "  inf\n",
            "  info\n",
            "  infty\n",
            "  inner\n",
            "  insert\n",
            "  int\n",
            "  int0\n",
            "  int16\n",
            "  int32\n",
            "  int64\n",
            "  int8\n",
            "  int_\n",
            "  int_asbuffer\n",
            "  intc\n",
            "  integer\n",
            "  interp\n",
            "  intersect1d\n",
            "  intp\n",
            "  invert\n",
            "  ipmt\n",
            "  irr\n",
            "  is_busday\n",
            "  isclose\n",
            "  iscomplex\n",
            "  iscomplexobj\n",
            "  isfinite\n",
            "  isfortran\n",
            "  isin\n",
            "  isinf\n",
            "  isnan\n",
            "  isnat\n",
            "  isneginf\n",
            "  isposinf\n",
            "  isreal\n",
            "  isrealobj\n",
            "  isscalar\n",
            "  issctype\n",
            "  issubclass_\n",
            "  issubdtype\n",
            "  issubsctype\n",
            "  iterable\n",
            "  ix_\n",
            "  kaiser\n",
            "  kron\n",
            "  lcm\n",
            "  ldexp\n",
            "  left_shift\n",
            "  less\n",
            "  less_equal\n",
            "  lexsort\n",
            "  lib\n",
            "  linalg\n",
            "  linspace\n",
            "  little_endian\n",
            "  load\n",
            "  loads\n",
            "  loadtxt\n",
            "  log\n",
            "  log10\n",
            "  log1p\n",
            "  log2\n",
            "  logaddexp\n",
            "  logaddexp2\n",
            "  logical_and\n",
            "  logical_not\n",
            "  logical_or\n",
            "  logical_xor\n",
            "  logspace\n",
            "  long\n",
            "  longcomplex\n",
            "  longdouble\n",
            "  longfloat\n",
            "  longlong\n",
            "  lookfor\n",
            "  ma\n",
            "  mafromtxt\n",
            "  mask_indices\n",
            "  mat\n",
            "  math\n",
            "  matmul\n",
            "  matrix\n",
            "  matrixlib\n",
            "  max\n",
            "  maximum\n",
            "  maximum_sctype\n",
            "  may_share_memory\n",
            "  mean\n",
            "  median\n",
            "  memmap\n",
            "  meshgrid\n",
            "  mgrid\n",
            "  min\n",
            "  min_scalar_type\n",
            "  minimum\n",
            "  mintypecode\n",
            "  mirr\n",
            "  mod\n",
            "  modf\n",
            "  moveaxis\n",
            "  msort\n",
            "  multiply\n",
            "  nan\n",
            "  nan_to_num\n",
            "  nanargmax\n",
            "  nanargmin\n",
            "  nancumprod\n",
            "  nancumsum\n",
            "  nanmax\n",
            "  nanmean\n",
            "  nanmedian\n",
            "  nanmin\n",
            "  nanpercentile\n",
            "  nanprod\n",
            "  nanquantile\n",
            "  nanstd\n",
            "  nansum\n",
            "  nanvar\n",
            "  nbytes\n",
            "  ndarray\n",
            "  ndenumerate\n",
            "  ndfromtxt\n",
            "  ndim\n",
            "  ndindex\n",
            "  nditer\n",
            "  negative\n",
            "  nested_iters\n",
            "  newaxis\n",
            "  nextafter\n",
            "  nonzero\n",
            "  not_equal\n",
            "  nper\n",
            "  npv\n",
            "  numarray\n",
            "  number\n",
            "  obj2sctype\n",
            "  object\n",
            "  object0\n",
            "  object_\n",
            "  ogrid\n",
            "  oldnumeric\n",
            "  ones\n",
            "  ones_like\n",
            "  outer\n",
            "  packbits\n",
            "  pad\n",
            "  partition\n",
            "  percentile\n",
            "  pi\n",
            "  piecewise\n",
            "  place\n",
            "  pmt\n",
            "  poly\n",
            "  poly1d\n",
            "  polyadd\n",
            "  polyder\n",
            "  polydiv\n",
            "  polyfit\n",
            "  polyint\n",
            "  polymul\n",
            "  polynomial\n",
            "  polysub\n",
            "  polyval\n",
            "  positive\n",
            "  power\n",
            "  ppmt\n",
            "  print_function\n",
            "  printoptions\n",
            "  prod\n",
            "  product\n",
            "  promote_types\n",
            "  ptp\n",
            "  put\n",
            "  put_along_axis\n",
            "  putmask\n",
            "  pv\n",
            "  quantile\n",
            "  r_\n",
            "  rad2deg\n",
            "  radians\n",
            "  random\n",
            "  rank\n",
            "  rate\n",
            "  ravel\n",
            "  ravel_multi_index\n",
            "  real\n",
            "  real_if_close\n",
            "  rec\n",
            "  recarray\n",
            "  recfromcsv\n",
            "  recfromtxt\n",
            "  reciprocal\n",
            "  record\n",
            "  remainder\n",
            "  repeat\n",
            "  require\n",
            "  reshape\n",
            "  resize\n",
            "  result_type\n",
            "  right_shift\n",
            "  rint\n",
            "  roll\n",
            "  rollaxis\n",
            "  roots\n",
            "  rot90\n",
            "  round\n",
            "  round_\n",
            "  row_stack\n",
            "  s_\n",
            "  safe_eval\n",
            "  save\n",
            "  savetxt\n",
            "  savez\n",
            "  savez_compressed\n",
            "  sctype2char\n",
            "  sctypeDict\n",
            "  sctypeNA\n",
            "  sctypes\n",
            "  searchsorted\n",
            "  select\n",
            "  set_numeric_ops\n",
            "  set_printoptions\n",
            "  set_string_function\n",
            "  setbufsize\n",
            "  setdiff1d\n",
            "  seterr\n",
            "  seterrcall\n",
            "  seterrobj\n",
            "  setxor1d\n",
            "  shape\n",
            "  shares_memory\n",
            "  short\n",
            "  show_config\n",
            "  sign\n",
            "  signbit\n",
            "  signedinteger\n",
            "  sin\n",
            "  sinc\n",
            "  single\n",
            "  singlecomplex\n",
            "  sinh\n",
            "  size\n",
            "  sometrue\n",
            "  sort\n",
            "  sort_complex\n",
            "  source\n",
            "  spacing\n",
            "  split\n",
            "  sqrt\n",
            "  square\n",
            "  squeeze\n",
            "  stack\n",
            "  std\n",
            "  str\n",
            "  str0\n",
            "  str_\n",
            "  string_\n",
            "  subtract\n",
            "  sum\n",
            "  swapaxes\n",
            "  sys\n",
            "  take\n",
            "  take_along_axis\n",
            "  tan\n",
            "  tanh\n",
            "  tensordot\n",
            "  test\n",
            "  testing\n",
            "  tile\n",
            "  timedelta64\n",
            "  trace\n",
            "  tracemalloc_domain\n",
            "  transpose\n",
            "  trapz\n",
            "  tri\n",
            "  tril\n",
            "  tril_indices\n",
            "  tril_indices_from\n",
            "  trim_zeros\n",
            "  triu\n",
            "  triu_indices\n",
            "  triu_indices_from\n",
            "  true_divide\n",
            "  trunc\n",
            "  typeDict\n",
            "  typeNA\n",
            "  typecodes\n",
            "  typename\n",
            "  ubyte\n",
            "  ufunc\n",
            "  uint\n",
            "  uint0\n",
            "  uint16\n",
            "  uint32\n",
            "  uint64\n",
            "  uint8\n",
            "  uintc\n",
            "  uintp\n",
            "  ulonglong\n",
            "  unicode\n",
            "  unicode_\n",
            "  union1d\n",
            "  unique\n",
            "  unpackbits\n",
            "  unravel_index\n",
            "  unsignedinteger\n",
            "  unwrap\n",
            "  ushort\n",
            "  vander\n",
            "  var\n",
            "  vdot\n",
            "  vectorize\n",
            "  version\n",
            "  void\n",
            "  void0\n",
            "  vsplit\n",
            "  vstack\n",
            "  warnings\n",
            "  where\n",
            "  who\n",
            "  zeros\n",
            "  zeros_like\n",
            "#+end_example"
          ],
          "name": "stdout"
        }
      ]
    },
    {
      "cell_type": "markdown",
      "metadata": {
        "id": "u2eP-cJSFu8f",
        "colab_type": "text"
      },
      "source": [
        "## Colab Instructions\n",
        "\n"
      ]
    },
    {
      "cell_type": "markdown",
      "metadata": {
        "id": "fPijPhdwFu8f",
        "colab_type": "text"
      },
      "source": [
        "-   You need to have a goole account to use colab\n",
        "-   You should also have a <span class=\"underline\">[https://github.com](https://github.com)</span> account, which is how I\n",
        "    will mark each weeks assignments\n",
        "-   Sign up for the exercise, it will *fork* (copy) the *repository*\n",
        "    (codebase) into your github account\n",
        "-   You should follow along the notebook (the document includes the\n",
        "    lecture notes, and exercises at the bottom of the file) and write\n",
        "    the solutions into colab, then *commit* (save) your changes for\n",
        "    marking\n",
        "-   The following pages will take you through the process to load the\n",
        "    notebook, write your code, and save to github, so the notebook can\n",
        "    be marked\n",
        "-   <span class=\"underline\">[https://colab.research.google.com/](https://colab.research.google.com/)</span>\n",
        "\n"
      ]
    },
    {
      "cell_type": "markdown",
      "metadata": {
        "id": "Y8OzY_QuFu8f",
        "colab_type": "text"
      },
      "source": [
        "## Colab Instructions\n",
        "\n"
      ]
    },
    {
      "cell_type": "markdown",
      "metadata": {
        "id": "hUaN0aTSFu8g",
        "colab_type": "text"
      },
      "source": [
        "Login to colab and choose open notebook\n",
        "\n",
        "[![img](https://github.com/uos-computing-for-particle-physics/01-numpy-sungholim-uos/blob/master/open_notebook.png?raw=1)](open_notebook.png)\n",
        "\n"
      ]
    },
    {
      "cell_type": "markdown",
      "metadata": {
        "id": "SmfaYg0EFu8g",
        "colab_type": "text"
      },
      "source": [
        "## Colab Instructions\n",
        "\n"
      ]
    },
    {
      "cell_type": "markdown",
      "metadata": {
        "id": "v9mM1blPFu8h",
        "colab_type": "text"
      },
      "source": [
        "You will see a table of options, choose \"github\"\n",
        "\n",
        "[![img](https://github.com/uos-computing-for-particle-physics/01-numpy-sungholim-uos/blob/master/choose_github.png?raw=1)](choose_github.png)\n",
        "\n"
      ]
    },
    {
      "cell_type": "markdown",
      "metadata": {
        "id": "IOFajD-oFu8i",
        "colab_type": "text"
      },
      "source": [
        "## Colab Instructions\n",
        "\n"
      ]
    },
    {
      "cell_type": "markdown",
      "metadata": {
        "id": "ajcD0eE3Fu8j",
        "colab_type": "text"
      },
      "source": [
        "Select \"include private repos\", this will open a pop-up (make sure to\n",
        "allow pop ups!) which asks you to sign into github to link you github\n",
        "to colab. Sign in with your github account details\n",
        "\n",
        "[![img](https://github.com/uos-computing-for-particle-physics/01-numpy-sungholim-uos/blob/master/private_repo.png?raw=1)](private_repo.png)\n",
        "\n"
      ]
    },
    {
      "cell_type": "markdown",
      "metadata": {
        "id": "Fzcz8uKdFu8j",
        "colab_type": "text"
      },
      "source": [
        "## Colab Instructions\n",
        "\n"
      ]
    },
    {
      "cell_type": "markdown",
      "metadata": {
        "id": "mWNesJm1Fu8k",
        "colab_type": "text"
      },
      "source": [
        "Go to the github repository created when you signed up to class. Find\n",
        "the github name of your repository (you need the full name, which is\n",
        "your github name '/' the repository name)\n",
        "\n",
        "[![img](https://github.com/uos-computing-for-particle-physics/01-numpy-sungholim-uos/blob/master/repo_name.png?raw=1)](repo_name.png)\n",
        "\n"
      ]
    },
    {
      "cell_type": "markdown",
      "metadata": {
        "id": "TD1qy-7uFu8k",
        "colab_type": "text"
      },
      "source": [
        "## Colab Instructions\n",
        "\n"
      ]
    },
    {
      "cell_type": "markdown",
      "metadata": {
        "id": "E4J2b8GjFu8l",
        "colab_type": "text"
      },
      "source": [
        "Enter the *full* repo name in the search, choose the repo in the list\n",
        "and click the ipynb notebook when it finds your repo (it will need to\n",
        "authorize github again to open, so wait a minute; ignore the \"errors\"\n",
        "and wait)\n",
        "\n",
        "[![img](https://github.com/uos-computing-for-particle-physics/01-numpy-sungholim-uos/blob/master/search_repo.png?raw=1)](search_repo.png)\n",
        "\n"
      ]
    },
    {
      "cell_type": "markdown",
      "metadata": {
        "id": "KT0EVxGHFu8l",
        "colab_type": "text"
      },
      "source": [
        "## Colab Instructions\n",
        "\n"
      ]
    },
    {
      "cell_type": "markdown",
      "metadata": {
        "id": "0vOEyTwFFu8m",
        "colab_type": "text"
      },
      "source": [
        "Now you can run your code (scroll down, and click on the \"hidden cell\"\n",
        "to reveal them, example shown). Type the code into the boxes and click\n",
        "the arrow or type \"SHIFT+ENTER\" to run the code (the first time it\n",
        "will bring up a warning, click 'run anyway')\n",
        "\n",
        "[![img](https://github.com/uos-computing-for-particle-physics/01-numpy-sungholim-uos/blob/master/write_code.png?raw=1)](write_code.png)\n",
        "\n"
      ]
    },
    {
      "cell_type": "markdown",
      "metadata": {
        "id": "byw23waRFu8m",
        "colab_type": "text"
      },
      "source": [
        "## Colab Instructions\n",
        "\n"
      ]
    },
    {
      "cell_type": "markdown",
      "metadata": {
        "id": "jIx_A73pFu8m",
        "colab_type": "text"
      },
      "source": [
        "When you're done (or need to take a break), save it back to github,\n",
        "you can reload the repo later (from the \"previous notebooks\" tab, to\n",
        "save some time) and it should have all the saved changes. Save as\n",
        "often as you want, run as much code as you want, its at github and\n",
        "google's expense!\n",
        "\n",
        "[![img](https://github.com/uos-computing-for-particle-physics/01-numpy-sungholim-uos/blob/master/save_github.png?raw=1)](save_github.png)\n",
        "\n"
      ]
    }
  ]
}